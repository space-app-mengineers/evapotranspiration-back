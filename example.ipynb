{
 "cells": [
  {
   "cell_type": "code",
   "execution_count": null,
   "metadata": {},
   "outputs": [],
   "source": [
    "import requests\n",
    "import pandas as pd\n",
    "import os\n",
    "from dotenv import load_dotenv\n",
    "\n",
    "# Load environment variables from .env file\n",
    "load_dotenv()\n",
    "\n",
    "# Accessing the variables\n",
    "API_KEY = os.getenv('API_KEY')\n",
    "BASE_URL = os.getenv('DATABASE_URL')\n",
    "\n",
    "# Define the parameters for the API request\n",
    "params = {\n",
    "    'latitude': 35.0,      # Example latitude\n",
    "    'longitude': -95.0,    # Example longitude\n",
    "    'start_date': '2023-01-01',\n",
    "    'end_date': '2023-01-31',\n",
    "    'api_key': API_KEY\n",
    "}\n",
    "\n",
    "# Make the API request\n",
    "response = requests.get(BASE_URL, params=params)\n",
    "\n",
    "# Check if the request was successful\n",
    "if response.status_code == 200:\n",
    "    data = response.json()\n",
    "    print(\"Data retrieved successfully!\")\n",
    "    \n",
    "    # Convert to DataFrame for easier handling\n",
    "    df = pd.DataFrame(data['results'])\n",
    "    print(df.head())\n",
    "else:\n",
    "    print(f\"Error: {response.status_code}, {response.text}\")\n",
    "\n"
   ]
  },
  {
   "cell_type": "code",
   "execution_count": null,
   "metadata": {},
   "outputs": [],
   "source": [
    "import requests\n",
    "import pandas as pd\n",
    "import dotenv"
   ]
  }
 ],
 "metadata": {
  "kernelspec": {
   "display_name": "Python 3",
   "language": "python",
   "name": "python3"
  },
  "language_info": {
   "name": "python",
   "version": "3.10.15"
  },
  "orig_nbformat": 4
 },
 "nbformat": 4,
 "nbformat_minor": 2
}
