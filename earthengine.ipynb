{
 "cells": [
  {
   "cell_type": "code",
   "execution_count": 1,
   "metadata": {},
   "outputs": [
    {
     "name": "stdout",
     "output_type": "stream",
     "text": [
      "Requirement already satisfied: earthengine-api in ./venv-max/lib/python3.12/site-packages (1.1.2)\n",
      "Requirement already satisfied: google-cloud-storage in ./venv-max/lib/python3.12/site-packages (from earthengine-api) (2.18.2)\n",
      "Requirement already satisfied: google-api-python-client>=1.12.1 in ./venv-max/lib/python3.12/site-packages (from earthengine-api) (2.147.0)\n",
      "Requirement already satisfied: google-auth>=1.4.1 in ./venv-max/lib/python3.12/site-packages (from earthengine-api) (2.35.0)\n",
      "Requirement already satisfied: google-auth-httplib2>=0.0.3 in ./venv-max/lib/python3.12/site-packages (from earthengine-api) (0.2.0)\n",
      "Requirement already satisfied: httplib2<1dev,>=0.9.2 in ./venv-max/lib/python3.12/site-packages (from earthengine-api) (0.22.0)\n",
      "Requirement already satisfied: requests in ./venv-max/lib/python3.12/site-packages (from earthengine-api) (2.32.3)\n",
      "Requirement already satisfied: google-api-core!=2.0.*,!=2.1.*,!=2.2.*,!=2.3.0,<3.0.0.dev0,>=1.31.5 in ./venv-max/lib/python3.12/site-packages (from google-api-python-client>=1.12.1->earthengine-api) (2.20.0)\n",
      "Requirement already satisfied: uritemplate<5,>=3.0.1 in ./venv-max/lib/python3.12/site-packages (from google-api-python-client>=1.12.1->earthengine-api) (4.1.1)\n",
      "Requirement already satisfied: cachetools<6.0,>=2.0.0 in ./venv-max/lib/python3.12/site-packages (from google-auth>=1.4.1->earthengine-api) (5.5.0)\n",
      "Requirement already satisfied: pyasn1-modules>=0.2.1 in ./venv-max/lib/python3.12/site-packages (from google-auth>=1.4.1->earthengine-api) (0.4.1)\n",
      "Requirement already satisfied: rsa<5,>=3.1.4 in ./venv-max/lib/python3.12/site-packages (from google-auth>=1.4.1->earthengine-api) (4.9)\n",
      "Requirement already satisfied: pyparsing!=3.0.0,!=3.0.1,!=3.0.2,!=3.0.3,<4,>=2.4.2 in ./venv-max/lib/python3.12/site-packages (from httplib2<1dev,>=0.9.2->earthengine-api) (3.1.4)\n",
      "Requirement already satisfied: google-cloud-core<3.0dev,>=2.3.0 in ./venv-max/lib/python3.12/site-packages (from google-cloud-storage->earthengine-api) (2.4.1)\n",
      "Requirement already satisfied: google-resumable-media>=2.7.2 in ./venv-max/lib/python3.12/site-packages (from google-cloud-storage->earthengine-api) (2.7.2)\n",
      "Requirement already satisfied: google-crc32c<2.0dev,>=1.0 in ./venv-max/lib/python3.12/site-packages (from google-cloud-storage->earthengine-api) (1.6.0)\n",
      "Requirement already satisfied: charset-normalizer<4,>=2 in ./venv-max/lib/python3.12/site-packages (from requests->earthengine-api) (3.3.2)\n",
      "Requirement already satisfied: idna<4,>=2.5 in ./venv-max/lib/python3.12/site-packages (from requests->earthengine-api) (3.10)\n",
      "Requirement already satisfied: urllib3<3,>=1.21.1 in ./venv-max/lib/python3.12/site-packages (from requests->earthengine-api) (2.2.3)\n",
      "Requirement already satisfied: certifi>=2017.4.17 in ./venv-max/lib/python3.12/site-packages (from requests->earthengine-api) (2024.8.30)\n",
      "Requirement already satisfied: googleapis-common-protos<2.0.dev0,>=1.56.2 in ./venv-max/lib/python3.12/site-packages (from google-api-core!=2.0.*,!=2.1.*,!=2.2.*,!=2.3.0,<3.0.0.dev0,>=1.31.5->google-api-python-client>=1.12.1->earthengine-api) (1.65.0)\n",
      "Requirement already satisfied: protobuf!=3.20.0,!=3.20.1,!=4.21.0,!=4.21.1,!=4.21.2,!=4.21.3,!=4.21.4,!=4.21.5,<6.0.0.dev0,>=3.19.5 in ./venv-max/lib/python3.12/site-packages (from google-api-core!=2.0.*,!=2.1.*,!=2.2.*,!=2.3.0,<3.0.0.dev0,>=1.31.5->google-api-python-client>=1.12.1->earthengine-api) (5.28.2)\n",
      "Requirement already satisfied: proto-plus<2.0.0dev,>=1.22.3 in ./venv-max/lib/python3.12/site-packages (from google-api-core!=2.0.*,!=2.1.*,!=2.2.*,!=2.3.0,<3.0.0.dev0,>=1.31.5->google-api-python-client>=1.12.1->earthengine-api) (1.24.0)\n",
      "Requirement already satisfied: pyasn1<0.7.0,>=0.4.6 in ./venv-max/lib/python3.12/site-packages (from pyasn1-modules>=0.2.1->google-auth>=1.4.1->earthengine-api) (0.6.1)\n"
     ]
    }
   ],
   "source": [
    "!pip install earthengine-api"
   ]
  },
  {
   "cell_type": "code",
   "execution_count": 2,
   "metadata": {},
   "outputs": [],
   "source": [
    "import ee\n",
    "ee.Authenticate()\n",
    "ee.Initialize()"
   ]
  },
  {
   "cell_type": "code",
   "execution_count": 3,
   "metadata": {},
   "outputs": [
    {
     "name": "stdout",
     "output_type": "stream",
     "text": [
      "{'type': 'Image', 'bands': [{'id': 'SR_B3', 'data_type': {'type': 'PixelType', 'precision': 'int', 'min': 0, 'max': 65535}, 'dimensions': [6991, 6911], 'crs': 'PROJCS[\"PS         WGS84\", \\n  GEOGCS[\"WGS 84\", \\n    DATUM[\"WGS_1984\", \\n      SPHEROID[\"WGS 84\", 6378137.0, 298.257223563]], \\n    PRIMEM[\"Greenwich\", 0.0, AUTHORITY[\"EPSG\",\"8901\"]], \\n    UNIT[\"degree\", 0.017453292519943295], \\n    AXIS[\"Longitude\", EAST], \\n    AXIS[\"Latitude\", NORTH], \\n    AUTHORITY[\"EPSG\",\"4326\"]], \\n  PROJECTION[\"Polar_Stereographic\"], \\n  PARAMETER[\"central_meridian\", 0.0], \\n  PARAMETER[\"latitude_of_origin\", -71.0], \\n  PARAMETER[\"scale_factor\", 1.0], \\n  PARAMETER[\"false_easting\", 0.0], \\n  PARAMETER[\"false_northing\", 0.0], \\n  UNIT[\"m\", 1.0], \\n  AXIS[\"Easting\", EAST], \\n  AXIS[\"Northing\", NORTH]]', 'crs_transform': [30, 0, -1173615, 0, -30, 1901715]}, {'id': 'SR_B4', 'data_type': {'type': 'PixelType', 'precision': 'int', 'min': 0, 'max': 65535}, 'dimensions': [6991, 6911], 'crs': 'PROJCS[\"PS         WGS84\", \\n  GEOGCS[\"WGS 84\", \\n    DATUM[\"WGS_1984\", \\n      SPHEROID[\"WGS 84\", 6378137.0, 298.257223563]], \\n    PRIMEM[\"Greenwich\", 0.0, AUTHORITY[\"EPSG\",\"8901\"]], \\n    UNIT[\"degree\", 0.017453292519943295], \\n    AXIS[\"Longitude\", EAST], \\n    AXIS[\"Latitude\", NORTH], \\n    AUTHORITY[\"EPSG\",\"4326\"]], \\n  PROJECTION[\"Polar_Stereographic\"], \\n  PARAMETER[\"central_meridian\", 0.0], \\n  PARAMETER[\"latitude_of_origin\", -71.0], \\n  PARAMETER[\"scale_factor\", 1.0], \\n  PARAMETER[\"false_easting\", 0.0], \\n  PARAMETER[\"false_northing\", 0.0], \\n  UNIT[\"m\", 1.0], \\n  AXIS[\"Easting\", EAST], \\n  AXIS[\"Northing\", NORTH]]', 'crs_transform': [30, 0, -1173615, 0, -30, 1901715]}, {'id': 'SR_B5', 'data_type': {'type': 'PixelType', 'precision': 'int', 'min': 0, 'max': 65535}, 'dimensions': [6991, 6911], 'crs': 'PROJCS[\"PS         WGS84\", \\n  GEOGCS[\"WGS 84\", \\n    DATUM[\"WGS_1984\", \\n      SPHEROID[\"WGS 84\", 6378137.0, 298.257223563]], \\n    PRIMEM[\"Greenwich\", 0.0, AUTHORITY[\"EPSG\",\"8901\"]], \\n    UNIT[\"degree\", 0.017453292519943295], \\n    AXIS[\"Longitude\", EAST], \\n    AXIS[\"Latitude\", NORTH], \\n    AUTHORITY[\"EPSG\",\"4326\"]], \\n  PROJECTION[\"Polar_Stereographic\"], \\n  PARAMETER[\"central_meridian\", 0.0], \\n  PARAMETER[\"latitude_of_origin\", -71.0], \\n  PARAMETER[\"scale_factor\", 1.0], \\n  PARAMETER[\"false_easting\", 0.0], \\n  PARAMETER[\"false_northing\", 0.0], \\n  UNIT[\"m\", 1.0], \\n  AXIS[\"Easting\", EAST], \\n  AXIS[\"Northing\", NORTH]]', 'crs_transform': [30, 0, -1173615, 0, -30, 1901715]}], 'version': 1704665784123581, 'id': 'LANDSAT/LC09/C02/T2_L2/LC09_193110_20240105', 'properties': {'DATA_SOURCE_ELEVATION': 'RAMP', 'WRS_TYPE': 2, 'REFLECTANCE_ADD_BAND_1': -0.2, 'REFLECTANCE_ADD_BAND_2': -0.2, 'DATUM': 'WGS84', 'REFLECTANCE_ADD_BAND_3': -0.2, 'REFLECTANCE_ADD_BAND_4': -0.2, 'REFLECTANCE_ADD_BAND_5': -0.2, 'REFLECTANCE_ADD_BAND_6': -0.2, 'REFLECTANCE_ADD_BAND_7': -0.2, 'system:footprint': {'type': 'LinearRing', 'coordinates': [[-34.3420285376807, -71.27148118718246], [-34.03659608725017, -71.32847998483936], [-33.386804328013255, -71.4468867690874], [-32.728606712703474, -71.56295442597252], [-31.850634931815677, -71.7118867069191], [-30.95821644058036, -71.85658294142824], [-29.48171633601166, -72.08180949507015], [-28.879549852424265, -71.68881770060445], [-28.30459062459127, -71.29535453140082], [-27.75376301492682, -70.90054715795742], [-27.223065085988864, -70.50251883874085], [-28.264157799113367, -70.34701440212882], [-29.099570772071615, -70.21578295179299], [-29.923591982276143, -70.08053331163522], [-30.7361187495871, -69.94135442978316], [-31.800917698740758, -69.74993060968605], [-32.1909066794594, -70.00036967973826], [-33.15177715198027, -70.58990990907971], [-33.57138711307058, -70.83631860233223], [-34.3420285376807, -71.27148118718246]]}, 'REFLECTIVE_SAMPLES': 6991, 'SUN_AZIMUTH': 61.18182444, 'DATE_ACQUIRED': '2024-01-05', 'TRUE_SCALE_LAT': -71, 'ELLIPSOID': 'WGS84', 'system:time_end': 1704451048840, 'DATA_SOURCE_PRESSURE': 'Calculated', 'LANDSAT_PRODUCT_ID': 'LC09_L2SR_193110_20240105_20240107_02_T2', 'FALSE_NORTHING': 0, 'STATION_ID': 'LGN', 'VERTICAL_LON_FROM_POLE': 0, 'REFLECTANCE_MULT_BAND_7': 2.75e-05, 'system:time_start': 1704451048840, 'REFLECTANCE_MULT_BAND_6': 2.75e-05, 'L1_PROCESSING_LEVEL': 'L1GT', 'PROCESSING_SOFTWARE_VERSION': 'LPGS_16.3.1', 'L1_DATE_PRODUCT_GENERATED': '2024-01-05T13:03:54Z', 'ORIENTATION': 'NORTH_UP', 'REFLECTANCE_MULT_BAND_1': 2.75e-05, 'WRS_ROW': 110, 'REFLECTANCE_MULT_BAND_3': 2.75e-05, 'REFLECTANCE_MULT_BAND_2': 2.75e-05, 'TARGET_WRS_ROW': 110, 'REFLECTANCE_MULT_BAND_5': 2.75e-05, 'FALSE_EASTING': 0, 'REFLECTANCE_MULT_BAND_4': 2.75e-05, 'IMAGE_QUALITY_TIRS': 9, 'NADIR_OFFNADIR': 'NADIR', 'CLOUD_COVER': 99.98, 'REQUEST_ID': '1835615_00003', 'EARTH_SUN_DISTANCE': 0.9833221, 'COLLECTION_CATEGORY': 'T2', 'SCENE_CENTER_TIME': '10:37:28.8406140Z', 'GRID_CELL_SIZE_REFLECTIVE': 30, 'SUN_ELEVATION': 33.15745465, 'CLOUD_COVER_LAND': -1, 'ROLL_ANGLE': 0, 'COLLECTION_NUMBER': 2, 'DATE_PRODUCT_GENERATED': 1704604996000, 'L1_REQUEST_ID': '1834551_00003', 'DATA_SOURCE_OZONE': 'VIIRS', 'SATURATION_BAND_1': 'N', 'DATA_SOURCE_WATER_VAPOR': 'VIIRS', 'SATURATION_BAND_2': 'N', 'SATURATION_BAND_3': 'N', 'IMAGE_QUALITY_OLI': 9, 'SATURATION_BAND_4': 'N', 'LANDSAT_SCENE_ID': 'LC91931102024005LGN00', 'SATURATION_BAND_5': 'N', 'MAP_PROJECTION': 'PS', 'SATURATION_BAND_6': 'N', 'SENSOR_ID': 'OLI_TIRS', 'SATURATION_BAND_7': 'N', 'SATURATION_BAND_8': 'N', 'WRS_PATH': 193, 'L1_PROCESSING_SOFTWARE_VERSION': 'LPGS_16.3.1', 'SATURATION_BAND_9': 'N', 'TARGET_WRS_PATH': 193, 'L1_LANDSAT_PRODUCT_ID': 'LC09_L1GT_193110_20240105_20240105_02_T2', 'PROCESSING_LEVEL': 'L2SR', 'ALGORITHM_SOURCE_SURFACE_REFLECTANCE': 'LaSRC_1.6.0', 'SPACECRAFT_ID': 'LANDSAT_9', 'REFLECTIVE_LINES': 6911, 'system:asset_size': 694270514, 'DATA_SOURCE_AIR_TEMPERATURE': 'VIIRS', 'system:index': 'LC09_193110_20240105'}}\n"
     ]
    }
   ],
   "source": [
    "import ee\n",
    "ee.Initialize()\n",
    "\n",
    "# Define a region of interest\n",
    "\n",
    "# Get the first image\n",
    "image = bands.first()\n",
    "\n",
    "# Print image info\n",
    "print(image.getInfo())\n"
   ]
  },
  {
   "cell_type": "code",
   "execution_count": 4,
   "metadata": {},
   "outputs": [
    {
     "name": "stdout",
     "output_type": "stream",
     "text": [
      "Requirement already satisfied: folium in ./venv-max/lib/python3.12/site-packages (0.17.0)\n",
      "Requirement already satisfied: branca>=0.6.0 in ./venv-max/lib/python3.12/site-packages (from folium) (0.8.0)\n",
      "Requirement already satisfied: jinja2>=2.9 in ./venv-max/lib/python3.12/site-packages (from folium) (3.1.4)\n",
      "Requirement already satisfied: numpy in ./venv-max/lib/python3.12/site-packages (from folium) (2.1.2)\n",
      "Requirement already satisfied: requests in ./venv-max/lib/python3.12/site-packages (from folium) (2.32.3)\n",
      "Requirement already satisfied: xyzservices in ./venv-max/lib/python3.12/site-packages (from folium) (2024.9.0)\n",
      "Requirement already satisfied: MarkupSafe>=2.0 in ./venv-max/lib/python3.12/site-packages (from jinja2>=2.9->folium) (2.1.5)\n",
      "Requirement already satisfied: charset-normalizer<4,>=2 in ./venv-max/lib/python3.12/site-packages (from requests->folium) (3.3.2)\n",
      "Requirement already satisfied: idna<4,>=2.5 in ./venv-max/lib/python3.12/site-packages (from requests->folium) (3.10)\n",
      "Requirement already satisfied: urllib3<3,>=1.21.1 in ./venv-max/lib/python3.12/site-packages (from requests->folium) (2.2.3)\n",
      "Requirement already satisfied: certifi>=2017.4.17 in ./venv-max/lib/python3.12/site-packages (from requests->folium) (2024.8.30)\n"
     ]
    }
   ],
   "source": [
    "!pip install folium"
   ]
  },
  {
   "cell_type": "code",
   "execution_count": 36,
   "metadata": {},
   "outputs": [
    {
     "name": "stdout",
     "output_type": "stream",
     "text": [
      "https://earthengine.googleapis.com/v1/projects/632253003966/maps/6e9791510053c2bf9a48fc532da7d7a9-c6eab2b28c786a459b2d7e3098c060bf/tiles/{z}/{x}/{y}\n"
     ]
    },
    {
     "data": {
      "text/html": [
       "<div style=\"width:100%;\"><div style=\"position:relative;width:100%;height:0;padding-bottom:60%;\"><span style=\"color:#565656\">Make this Notebook Trusted to load map: File -> Trust Notebook</span><iframe srcdoc=\"&lt;!DOCTYPE html&gt;\n",
       "&lt;html&gt;\n",
       "&lt;head&gt;\n",
       "    \n",
       "    &lt;meta http-equiv=&quot;content-type&quot; content=&quot;text/html; charset=UTF-8&quot; /&gt;\n",
       "    \n",
       "        &lt;script&gt;\n",
       "            L_NO_TOUCH = false;\n",
       "            L_DISABLE_3D = false;\n",
       "        &lt;/script&gt;\n",
       "    \n",
       "    &lt;style&gt;html, body {width: 100%;height: 100%;margin: 0;padding: 0;}&lt;/style&gt;\n",
       "    &lt;style&gt;#map {position:absolute;top:0;bottom:0;right:0;left:0;}&lt;/style&gt;\n",
       "    &lt;script src=&quot;https://cdn.jsdelivr.net/npm/leaflet@1.9.3/dist/leaflet.js&quot;&gt;&lt;/script&gt;\n",
       "    &lt;script src=&quot;https://code.jquery.com/jquery-3.7.1.min.js&quot;&gt;&lt;/script&gt;\n",
       "    &lt;script src=&quot;https://cdn.jsdelivr.net/npm/bootstrap@5.2.2/dist/js/bootstrap.bundle.min.js&quot;&gt;&lt;/script&gt;\n",
       "    &lt;script src=&quot;https://cdnjs.cloudflare.com/ajax/libs/Leaflet.awesome-markers/2.0.2/leaflet.awesome-markers.js&quot;&gt;&lt;/script&gt;\n",
       "    &lt;link rel=&quot;stylesheet&quot; href=&quot;https://cdn.jsdelivr.net/npm/leaflet@1.9.3/dist/leaflet.css&quot;/&gt;\n",
       "    &lt;link rel=&quot;stylesheet&quot; href=&quot;https://cdn.jsdelivr.net/npm/bootstrap@5.2.2/dist/css/bootstrap.min.css&quot;/&gt;\n",
       "    &lt;link rel=&quot;stylesheet&quot; href=&quot;https://netdna.bootstrapcdn.com/bootstrap/3.0.0/css/bootstrap-glyphicons.css&quot;/&gt;\n",
       "    &lt;link rel=&quot;stylesheet&quot; href=&quot;https://cdn.jsdelivr.net/npm/@fortawesome/fontawesome-free@6.2.0/css/all.min.css&quot;/&gt;\n",
       "    &lt;link rel=&quot;stylesheet&quot; href=&quot;https://cdnjs.cloudflare.com/ajax/libs/Leaflet.awesome-markers/2.0.2/leaflet.awesome-markers.css&quot;/&gt;\n",
       "    &lt;link rel=&quot;stylesheet&quot; href=&quot;https://cdn.jsdelivr.net/gh/python-visualization/folium/folium/templates/leaflet.awesome.rotate.min.css&quot;/&gt;\n",
       "    \n",
       "            &lt;meta name=&quot;viewport&quot; content=&quot;width=device-width,\n",
       "                initial-scale=1.0, maximum-scale=1.0, user-scalable=no&quot; /&gt;\n",
       "            &lt;style&gt;\n",
       "                #map_8c4cbca85cdbc83341ee3c885f0fbef8 {\n",
       "                    position: relative;\n",
       "                    width: 100.0%;\n",
       "                    height: 100.0%;\n",
       "                    left: 0.0%;\n",
       "                    top: 0.0%;\n",
       "                }\n",
       "                .leaflet-container { font-size: 1rem; }\n",
       "            &lt;/style&gt;\n",
       "        \n",
       "&lt;/head&gt;\n",
       "&lt;body&gt;\n",
       "    \n",
       "    \n",
       "            &lt;div class=&quot;folium-map&quot; id=&quot;map_8c4cbca85cdbc83341ee3c885f0fbef8&quot; &gt;&lt;/div&gt;\n",
       "        \n",
       "&lt;/body&gt;\n",
       "&lt;script&gt;\n",
       "    \n",
       "    \n",
       "            var map_8c4cbca85cdbc83341ee3c885f0fbef8 = L.map(\n",
       "                &quot;map_8c4cbca85cdbc83341ee3c885f0fbef8&quot;,\n",
       "                {\n",
       "                    center: [-33.8719, -70.0],\n",
       "                    crs: L.CRS.EPSG3857,\n",
       "                    zoom: 7,\n",
       "                    zoomControl: true,\n",
       "                    preferCanvas: false,\n",
       "                }\n",
       "            );\n",
       "\n",
       "            \n",
       "\n",
       "        \n",
       "    \n",
       "            var tile_layer_f55a0f27ccbee3bf3e38dae953119ced = L.tileLayer(\n",
       "                &quot;https://tile.openstreetmap.org/{z}/{x}/{y}.png&quot;,\n",
       "                {&quot;attribution&quot;: &quot;\\u0026copy; \\u003ca href=\\&quot;https://www.openstreetmap.org/copyright\\&quot;\\u003eOpenStreetMap\\u003c/a\\u003e contributors&quot;, &quot;detectRetina&quot;: false, &quot;maxNativeZoom&quot;: 19, &quot;maxZoom&quot;: 19, &quot;minZoom&quot;: 0, &quot;noWrap&quot;: false, &quot;opacity&quot;: 1, &quot;subdomains&quot;: &quot;abc&quot;, &quot;tms&quot;: false}\n",
       "            );\n",
       "        \n",
       "    \n",
       "            tile_layer_f55a0f27ccbee3bf3e38dae953119ced.addTo(map_8c4cbca85cdbc83341ee3c885f0fbef8);\n",
       "        \n",
       "    \n",
       "            var tile_layer_a98f218b02451c8433d4e312609d147f = L.tileLayer(\n",
       "                &quot;https://earthengine.googleapis.com/v1/projects/632253003966/maps/6e9791510053c2bf9a48fc532da7d7a9-c6eab2b28c786a459b2d7e3098c060bf/tiles/{z}/{x}/{y}&quot;,\n",
       "                {&quot;attribution&quot;: &quot;Google Earth Engine&quot;, &quot;detectRetina&quot;: false, &quot;maxZoom&quot;: 18, &quot;minZoom&quot;: 0, &quot;noWrap&quot;: false, &quot;opacity&quot;: 1, &quot;subdomains&quot;: &quot;abc&quot;, &quot;tms&quot;: false}\n",
       "            );\n",
       "        \n",
       "    \n",
       "            tile_layer_a98f218b02451c8433d4e312609d147f.addTo(map_8c4cbca85cdbc83341ee3c885f0fbef8);\n",
       "        \n",
       "    \n",
       "            var layer_control_0a17d848b7f9ae56b907e365cff76384_layers = {\n",
       "                base_layers : {\n",
       "                    &quot;openstreetmap&quot; : tile_layer_f55a0f27ccbee3bf3e38dae953119ced,\n",
       "                },\n",
       "                overlays :  {\n",
       "                    &quot;Landsat 8 True Color&quot; : tile_layer_a98f218b02451c8433d4e312609d147f,\n",
       "                },\n",
       "            };\n",
       "            let layer_control_0a17d848b7f9ae56b907e365cff76384 = L.control.layers(\n",
       "                layer_control_0a17d848b7f9ae56b907e365cff76384_layers.base_layers,\n",
       "                layer_control_0a17d848b7f9ae56b907e365cff76384_layers.overlays,\n",
       "                {&quot;autoZIndex&quot;: true, &quot;collapsed&quot;: true, &quot;position&quot;: &quot;topright&quot;}\n",
       "            ).addTo(map_8c4cbca85cdbc83341ee3c885f0fbef8);\n",
       "\n",
       "        \n",
       "&lt;/script&gt;\n",
       "&lt;/html&gt;\" style=\"position:absolute;width:100%;height:100%;left:0;top:0;border:none !important;\" allowfullscreen webkitallowfullscreen mozallowfullscreen></iframe></div></div>"
      ],
      "text/plain": [
       "<folium.folium.Map at 0x76143619d640>"
      ]
     },
     "execution_count": 36,
     "metadata": {},
     "output_type": "execute_result"
    }
   ],
   "source": [
    "import folium\n",
    "import numpy as np\n",
    "\n",
    "roi_center = [-70, -33.8719]\n",
    "roi = ee.Geometry.Point(roi_center)\n",
    "\n",
    "# Load Landsat 8 image collection, filter by date and region\n",
    "landsat = ee.ImageCollection(\"LANDSAT/LC08/C02/T1_TOA\").filterDate('2024-01-24', '2024-02-04').filterBounds(roi)\n",
    "\n",
    "bands = ['B1', 'B2', 'B3', 'B4', 'B5', 'B6', 'B7', 'B8', 'B9', 'B10', 'B11']\n",
    "image_all_bands = landsat.median().select(bands)\n",
    "\n",
    "vis_params = {\n",
    "    'min': 0,\n",
    "    'max': 0.3,\n",
    "    'bands': ['B1'],\n",
    "}\n",
    "\n",
    "\n",
    "# Create a folium map centered at the region of interest\n",
    "# (es necesario el np.flip, las coordenadas estan invertidas en relacion al otro)\n",
    "m = folium.Map(location=np.flip(roi_center), zoom_start=7)\n",
    "\n",
    "# Add the image layer to the map\n",
    "map_id_dict = ee.Image(image_all_bands).getMapId(vis_params)\n",
    "folium.TileLayer(\n",
    "    tiles=map_id_dict['tile_fetcher'].url_format,\n",
    "    attr='Google Earth Engine',\n",
    "    name='Landsat 8 True Color',\n",
    "    overlay=True,\n",
    "    control=True\n",
    ").add_to(m)\n",
    "\n",
    "print(map_id_dict['tile_fetcher'].url_format)\n",
    "\n",
    "# Add layer control\n",
    "m.add_child(folium.LayerControl())\n",
    "\n",
    "# Display the map\n",
    "m"
   ]
  },
  {
   "cell_type": "code",
   "execution_count": null,
   "metadata": {},
   "outputs": [],
   "source": []
  }
 ],
 "metadata": {
  "kernelspec": {
   "display_name": "venv-max",
   "language": "python",
   "name": "python3"
  },
  "language_info": {
   "codemirror_mode": {
    "name": "ipython",
    "version": 3
   },
   "file_extension": ".py",
   "mimetype": "text/x-python",
   "name": "python",
   "nbconvert_exporter": "python",
   "pygments_lexer": "ipython3",
   "version": "3.12.6"
  }
 },
 "nbformat": 4,
 "nbformat_minor": 2
}
