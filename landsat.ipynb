{
 "cells": [
  {
   "cell_type": "code",
   "execution_count": 17,
   "metadata": {},
   "outputs": [
    {
     "data": {
      "text/html": [
       "\n",
       "            <style>\n",
       "                .geemap-dark {\n",
       "                    --jp-widgets-color: white;\n",
       "                    --jp-widgets-label-color: white;\n",
       "                    --jp-ui-font-color1: white;\n",
       "                    --jp-layout-color2: #454545;\n",
       "                    background-color: #383838;\n",
       "                }\n",
       "\n",
       "                .geemap-dark .jupyter-button {\n",
       "                    --jp-layout-color3: #383838;\n",
       "                }\n",
       "\n",
       "                .geemap-colab {\n",
       "                    background-color: var(--colab-primary-surface-color, white);\n",
       "                }\n",
       "\n",
       "                .geemap-colab .jupyter-button {\n",
       "                    --jp-layout-color3: var(--colab-primary-surface-color, white);\n",
       "                }\n",
       "            </style>\n",
       "            "
      ],
      "text/plain": [
       "<IPython.core.display.HTML object>"
      ]
     },
     "metadata": {},
     "output_type": "display_data"
    },
    {
     "name": "stdout",
     "output_type": "stream",
     "text": [
      "Solicitando imagen de MODIS_Terra_CorrectedReflectance_TrueColor en https://gibs.earthdata.nasa.gov/wmts/epsg4326/best/MODIS_Terra_CorrectedReflectance_TrueColor/default/2023-09-10/250m/8/177/103.jpg\n",
      "Error al obtener la imagen: b'<?xml version=\"1.0\" encoding=\"UTF-8\"?>\\n<ExceptionReport xmlns=\"http://www.opengis.net/ows/1.1\" xmlns:xsi=\"http://www.w3.org/2001/XMLSchema-instance\" xsi:schemaLocation=\"http://schemas.opengis.net/ows/1.1.0/owsExceptionReport.xsd\" version=\"1.1.0\" xml:lang=\"en\">\\n<Exception exceptionCode=\"TileOutOfRange\" locator=\"TILEROW\">\\n<ExceptionText>TILEROW is out of range, maximum value is 159</ExceptionText></Exception>\\n</ExceptionReport>'\n",
      "Error al obtener la imagen: 400\n"
     ]
    }
   ],
   "source": [
    "import requests\n",
    "import matplotlib.pyplot as plt\n",
    "from PIL import Image\n",
    "from io import BytesIO\n",
    "import math\n",
    "# Parámetros de la solicitud\n",
    "lon, lat = -35., -70.  # Coordenadas de Ciudad de México\n",
    "zoom = 8  # Nivel de zoom (0 a 8, más alto = más detalle)\n",
    "date = \"2023-09-10\"  # Fecha de la imagen (YYYY-MM-DD)\n",
    "# layer = \"HLS_L30_Nadir_BRDF_Adjusted_Reflectance\"  # Capa Landsat 8\n",
    "layer = \"MODIS_Terra_CorrectedReflectance_TrueColor\"  # Capa MODIS\n",
    "\n",
    "# URL base para la solicitud a la API GIBS\n",
    "url_template = f\"https://gibs.earthdata.nasa.gov/wmts/epsg4326/best/{layer}/default/{date}/250m/{{z}}/{{y}}/{{x}}.jpg\"\n",
    "\n",
    "# Función para convertir coordenadas lat/lon a coordenadas de teselas\n",
    "def latlon_to_tile(lat, lon, zoom):\n",
    "    lat_rad = lat * (math.pi / 180.0)\n",
    "    n = 2.0 ** zoom\n",
    "    xtile = int((lon + 180.0) / 360.0 * n)\n",
    "    ytile = int((1.0 - (lat_rad / math.pi)) / 2.0 * n)\n",
    "    return (xtile, ytile)\n",
    "\n",
    "# Obtener las coordenadas de la tesela\n",
    "xtile, ytile = latlon_to_tile(lat, lon, zoom)\n",
    "\n",
    "# Formatear la URL final\n",
    "url = url_template.format(z=zoom, x=xtile, y=ytile)\n",
    "print(f\"Solicitando imagen de {layer} en {url}\")\n",
    "\n",
    "# Realizar la solicitud a la API GIBS\n",
    "response = requests.get(url)\n",
    "\n",
    "# Verificar si la solicitud fue exitosa\n",
    "if response.status_code == 200:\n",
    "    # Mostrar la imagen\n",
    "    img = Image.open(BytesIO(response.content))\n",
    "    plt.imshow(img)\n",
    "    plt.axis('off')\n",
    "    plt.show()\n",
    "else:\n",
    "    print(f\"Error al obtener la imagen: {response.content}\")\n",
    "    print(f\"Error al obtener la imagen: {response.status_code}\")\n"
   ]
  },
  {
   "cell_type": "code",
   "execution_count": null,
   "metadata": {},
   "outputs": [],
   "source": []
  }
 ],
 "metadata": {
  "kernelspec": {
   "display_name": "nasa",
   "language": "python",
   "name": "python3"
  },
  "language_info": {
   "codemirror_mode": {
    "name": "ipython",
    "version": 3
   },
   "file_extension": ".py",
   "mimetype": "text/x-python",
   "name": "python",
   "nbconvert_exporter": "python",
   "pygments_lexer": "ipython3",
   "version": "3.10.15"
  }
 },
 "nbformat": 4,
 "nbformat_minor": 2
}
